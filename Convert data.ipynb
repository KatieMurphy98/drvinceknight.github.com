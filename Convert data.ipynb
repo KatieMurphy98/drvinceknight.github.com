{
 "cells": [
  {
   "cell_type": "code",
   "execution_count": 174,
   "metadata": {
    "collapsed": true
   },
   "outputs": [],
   "source": [
    "import yaml\n",
    "import glob"
   ]
  },
  {
   "cell_type": "code",
   "execution_count": 172,
   "metadata": {
    "collapsed": true
   },
   "outputs": [],
   "source": [
    "# Read appointments\n",
    "with open(\"./_data/appointments.yml\", \"r\") as f:\n",
    "    appointments = yaml.load(f)\n",
    "\n"
   ]
  },
  {
   "cell_type": "code",
   "execution_count": 173,
   "metadata": {},
   "outputs": [
    {
     "data": {
      "text/plain": [
       "[{'end_date': 2011,\n",
       "  'location': 'Cardiff University',\n",
       "  'start_date': 2009,\n",
       "  'title': 'Post Doctoral Researcher'},\n",
       " {'end_date': 2016,\n",
       "  'location': 'Cardiff University',\n",
       "  'start_date': 2011,\n",
       "  'title': 'Lecturer'},\n",
       " {'end_date': 'present',\n",
       "  'location': 'Cardiff University',\n",
       "  'start_date': 2016,\n",
       "  'title': 'Senior Lecturer'}]"
      ]
     },
     "execution_count": 173,
     "metadata": {},
     "output_type": "execute_result"
    }
   ],
   "source": [
    "appointments"
   ]
  },
  {
   "cell_type": "code",
   "execution_count": 178,
   "metadata": {},
   "outputs": [
    {
     "data": {
      "text/plain": [
       "[{'end_date': 'present',\n",
       "  'location': 'Cardiff University',\n",
       "  'start_date': 2016,\n",
       "  'title': 'Senior Lecturer'},\n",
       " {'end_date': 2016,\n",
       "  'location': 'Cardiff University',\n",
       "  'start_date': 2011,\n",
       "  'title': 'Lecturer'},\n",
       " {'end_date': 2011,\n",
       "  'location': 'Cardiff University',\n",
       "  'start_date': 2009,\n",
       "  'title': 'Post Doctoral Researcher'}]"
      ]
     },
     "execution_count": 178,
     "metadata": {},
     "output_type": "execute_result"
    }
   ],
   "source": [
    "appointments =[]\n",
    "for file in glob.glob(\"./data/Appointment/*yml\"):\n",
    "    with open(file, \"r\") as f:\n",
    "        appointments.append(yaml.load(f))\n",
    "appointments"
   ]
  },
  {
   "cell_type": "code",
   "execution_count": 179,
   "metadata": {},
   "outputs": [
    {
     "data": {
      "text/plain": [
       "[{'authors': ['me', 'paul-harper', 'leanne-smith'],\n",
       "  'date': 2012,\n",
       "  'details': 'OMEGA - The International Journal of Management Science. 40 (6) 918--926',\n",
       "  'title': 'Ambulance Allocation for Maximal Survival with Heterogeneous Outcome Measures.'},\n",
       " {'authors': ['peter-burnap',\n",
       "   'matthew-williams',\n",
       "   'luke-sloan',\n",
       "   'omer-rana',\n",
       "   'will-housley',\n",
       "   'adam-edwards',\n",
       "   'me',\n",
       "   'rob-procter',\n",
       "   'alex-voss'],\n",
       "  'date': 2014,\n",
       "  'details': 'Social Network Analysis and Mining',\n",
       "  'title': 'Tweeting the Terror: Modelling the Social Media Reaction to the Woolwich Terrorist Attack'},\n",
       " {'authors': ['izabella-komenda', 'hannah-williams', 'me'],\n",
       "  'date': 2015,\n",
       "  'details': 'Operations Research for Health Care.',\n",
       "  'title': 'Compliance with National Guidelines for Stroke in Radiology.',\n",
       "  'url': 'http://www.sciencedirect.com/science/article/pii/S2211692314200191'},\n",
       " {'authors': ['janet-williams', 'jon-gillard', 'paul-harper', 'me'],\n",
       "  'date': 2010,\n",
       "  'details': 'In Proceedings of the XXXVI International ORAHS Conference',\n",
       "  'title': 'Forecasting Welsh Ambulance Demand using Singular Spectrum Analysis.'},\n",
       " {'authors': ['paul-harper', 'e-kleinman', 'jenny-gallagher', 'me'],\n",
       "  'date': 2011,\n",
       "  'details': 'Journal of Enterprise Information Management',\n",
       "  'title': 'Cost-Effective Workforce Planning: Optimising the Dental Team Skill-Mix for England.'},\n",
       " {'authors': ['paul-harper', 'me', 'adele-marshall'],\n",
       "  'date': 2012,\n",
       "  'details': 'European Journal of Operational Research. 219 (3) 522--530',\n",
       "  'title': 'Discrete Conditional Phase-Type Models Utilising Classification Trees: Application to Modelling Health Service Capacities.'},\n",
       " {'authors': ['julie-vile', 'jon-gillard', 'paul-harper', 'me'],\n",
       "  'date': 2016,\n",
       "  'details': 'Operations Research for Health Care.',\n",
       "  'title': 'Time-dependent stochastic methods for managing and scheduling Emergency Medical Services',\n",
       "  'url': 'http://www.sciencedirect.com/science/article/pii/S2211692314200518'},\n",
       " {'authors': ['me', 'paul-harper'],\n",
       "  'date': 2013,\n",
       "  'details': 'European Journal of Operational Research. 230 (1) 122-132',\n",
       "  'title': 'Selfish routing in public services.'},\n",
       " {'authors': ['roger-behrend', 'me'],\n",
       "  'date': 2008,\n",
       "  'details': 'Electronic Journal of Combinatorics.~14(1): R83, 38pp.',\n",
       "  'title': 'Higher Spin Alternating Sign Matrices'},\n",
       " {'authors': ['jon-gillard', 'me', 'julie-vile', 'rob-wilson'],\n",
       "  'date': 2015,\n",
       "  'details': 'IMA Journal of Management Mathematics. 27 (2)',\n",
       "  'title': 'Rostering staff at a mathematics support service using a finite-source queueing model'},\n",
       " {'authors': ['kayne-putman', 'alex-anstey', 'paul-harper', 'me'],\n",
       "  'date': 2015,\n",
       "  'details': 'Health Systems.',\n",
       "  'title': 'Modelling of psoriasis patient flows for the reconfiguration of secondary care services and treatments'},\n",
       " {'authors': ['roberto-aringhieri', 'me', 'honora-smith'],\n",
       "  'date': 2016,\n",
       "  'details': 'Operations Research for Health Care, 5, 3.',\n",
       "  'title': 'Editorial: Health Systems ESI XXXI — OR applied to Health in a Modern World.',\n",
       "  'url': 'https://link.springer.com/article/10.1057/s41306-016-0012-5'},\n",
       " {'authors': ['me', 'izabella-komenda', 'jeff-griffiths'],\n",
       "  'date': 2016,\n",
       "  'details': 'The journal of the operational research society',\n",
       "  'title': 'Measuring the Price of Anarchy in Critical Care Unit Interactions.',\n",
       "  'url': 'http://www.readcube.com/articles/10.1057/s41274-016-0100-8?author_access_token=JAsSHKTcTl3NH3k5s1oiMVxOt48VBPO10Uv7D6sAgHtkoDjTsoR3OW9x7fmxHicGmSJj_WULIi-5FaAMov8cp-zDTP1PJoVIArpmmPDcS9szSXf4MFhLgmkgDfNf-Es-tfeeFIWjcAd9ghBNqM6Ekw%3D%3D'},\n",
       " {'authors': ['me', 'paul-harper'],\n",
       "  'date': 2012,\n",
       "  'details': 'Health Systems. 1 53-68',\n",
       "  'title': 'Modelling Emergency Medical Services with Phase Type Distributions.'},\n",
       " {'authors': ['jeff-griffiths', 'me', 'izabella-komenda'],\n",
       "  'date': 2011,\n",
       "  'details': 'IMA Journal of Management Mathematics.',\n",
       "  'title': 'Bed Management in a Critical Care Unit.'},\n",
       " {'authors': ['angelico-fetta',\n",
       "   'paul-harper',\n",
       "   'me',\n",
       "   'janet-williams',\n",
       "   'israel-vieira'],\n",
       "  'date': 2011,\n",
       "  'details': 'Physica A: Statistical Mechanics and its Applications.',\n",
       "  'title': 'On the Peter Principle: An Agent Based Investigation into the Consequential Effects of Social Networks and Behavioural Factors.'},\n",
       " {'authors': ['me'],\n",
       "  'date': 2015,\n",
       "  'details': 'Connections',\n",
       "  'title': 'Playing games: a case study in active learning applied to Game Theory.',\n",
       "  'url': 'https://journals.gre.ac.uk/index.php/msor/article/view/254'},\n",
       " {'authors': ['me', 'janet-williams', 'iain-reynolds'],\n",
       "  'date': 2011,\n",
       "  'details': 'Journal of Simulation.',\n",
       "  'title': 'Modelling Patient Choice in Healthcare Systems: Development and Application of a Discrete Event Simulation with Agent-Based Functionality.'},\n",
       " {'authors': ['noel-ann-bradshaw', 'paul-harper', 'me', 'louise-orpin'],\n",
       "  'date': 2014,\n",
       "  'details': 'Proceedings of the HEA STEM, Edinburgh 2014',\n",
       "  'title': 'Operational research ambassadors in schools'},\n",
       " {'authors': ['rob-shone',\n",
       "   'me',\n",
       "   'paul-harper',\n",
       "   'janet-williams',\n",
       "   'john-minty'],\n",
       "  'date': 2015,\n",
       "  'details': 'Journal of the Operational Research Society.',\n",
       "  'title': 'Containment of socially optimal policies in multiple-facility Markovian queueing systems.',\n",
       "  'url': 'http://link.springer.com/article/10.1057/jors.2015.98'},\n",
       " {'authors': ['me',\n",
       "   'owen-campbell',\n",
       "   'marc-harper',\n",
       "   'karol-langner',\n",
       "   'james-campbell',\n",
       "   'thomas-campbell',\n",
       "   'alex-carney',\n",
       "   'martin-chorley',\n",
       "   'cameron-davidson-pilon',\n",
       "   'kristian-glass',\n",
       "   'nikoleta-glynatsi',\n",
       "   'tomáš-ehrlich',\n",
       "   'martin-jones',\n",
       "   'georgios-koutsovoulos',\n",
       "   'holly-tibble',\n",
       "   'jochen-müller',\n",
       "   'geraint-palmer',\n",
       "   'piotr-petunov',\n",
       "   'paul-slavin',\n",
       "   'timothy-standen',\n",
       "   'luis-visintini',\n",
       "   'karl-molden.'],\n",
       "  'date': 2016,\n",
       "  'details': 'Journal of open research software.',\n",
       "  'title': 'An Open Framework for the Reproducible Study of the Iterated Prisoner’s Dilemma.',\n",
       "  'url': 'http://openresearchsoftware.metajnl.com/article/10.5334/jors.125/'},\n",
       " {'authors': ['me', 'jeff-griffiths', 'izabela-komenda'],\n",
       "  'date': 2016,\n",
       "  'details': 'The journal of the operational research society',\n",
       "  'title': 'Measuring the Price of Anarchy in Critical Care Unit Interactions',\n",
       "  'url': 'http://www.readcube.com/articles/10.1057/s41274-016-0100-8?author_access_token=JAsSHKTcTl3NH3k5s1oiMVxOt48VBPO10Uv7D6sAgHtkoDjTsoR3OW9x7fmxHicGmSJj_WULIi-5FaAMov8cp-zDTP1PJoVIArpmmPDcS9szSXf4MFhLgmkgDfNf-Es-tfeeFIWjcAd9ghBNqM6Ekw%3D%3D'},\n",
       " {'authors': ['kesh-baboolal',\n",
       "   'jeff-griffiths',\n",
       "   'me',\n",
       "   'andrew-nelson',\n",
       "   'cheryl-voake',\n",
       "   'janet-williams'],\n",
       "  'date': 2012,\n",
       "  'details': 'Emergency Medicine Journal.',\n",
       "  'title': 'How Efficient can an Emergency Unit be? A Perfect World Model.'},\n",
       " {'authors': ['rob-shone', 'me', 'janet-williams'],\n",
       "  'date': 2013,\n",
       "  'details': 'European Journal of Operational Research',\n",
       "  'title': 'Comparisons between observable and unobservable M/M/1 queues with respect to optimal customer behavior'},\n",
       " {'authors': ['paul-harper', 'me', 'israel-vieira', 'janet-williams'],\n",
       "  'date': 2011,\n",
       "  'details': 'Cardiff University. ISBN: 978-0-9569158-0-1',\n",
       "  'title': 'Operational Research Informing National Health Policy'},\n",
       " {'authors': ['james-williams',\n",
       "   'steve-dumont',\n",
       "   'jack-parry-jones',\n",
       "   'izabella-komenda',\n",
       "   'jeff-griffiths',\n",
       "   'me'],\n",
       "  'date': 2014,\n",
       "  'details': 'Anaesthesia. 70 (1)',\n",
       "  'title': 'Mathematical modelling of patient flows to predict critical care capacity required following the merger of two district general hospitals into one.'},\n",
       " {'authors': ['janet-williams', 'jon-gillard', 'paul-harper', 'me'],\n",
       "  'date': 2011,\n",
       "  'details': 'In Journal of the Operational Research Society',\n",
       "  'title': 'Forecasting Welsh Ambulance Demand using Singular Spectrum Analysis.'},\n",
       " {'authors': ['roberto-aringhieri', 'me', 'honora-smith'],\n",
       "  'date': 2016,\n",
       "  'details': 'Operations Research for Health Care, 8, 22–23.',\n",
       "  'title': 'Editorial: Operations Research for Health Care ESI XXXI — OR applied to Health in a Modern World.',\n",
       "  'url': 'http://doi.org/10.1016/j.orhc.2016.01.002'},\n",
       " {'authors': ['me', 'jon-gillard'],\n",
       "  'date': 2013,\n",
       "  'details': 'Journal of the Operational Research Society',\n",
       "  'title': 'Using Singular Spectrum Analysis to Obtain Staffing Level Requirements in Healthcare.'},\n",
       " {'authors': ['leanne-smith', 'paul-harper', 'me'],\n",
       "  'date': 2016,\n",
       "  'details': 'Submitted to the journal of the operational research society',\n",
       "  'title': 'Ambulance Allocations for Maximising Survival within a Heterogeneous Population using a Heterogeneous Fleet.'}]"
      ]
     },
     "execution_count": 179,
     "metadata": {},
     "output_type": "execute_result"
    }
   ],
   "source": [
    "publications =[]\n",
    "for file in glob.glob(\"./data/Publication/*yml\"):\n",
    "    with open(file, \"r\") as f:\n",
    "        publications.append(yaml.load(f))\n",
    "publications"
   ]
  },
  {
   "cell_type": "code",
   "execution_count": 180,
   "metadata": {},
   "outputs": [
    {
     "data": {
      "text/plain": [
       "[{'name': 'Noel-Ann Bradshaw'},\n",
       " {'name': 'Jeff Griffiths'},\n",
       " {'name': 'Alex Anstey'},\n",
       " {'name': 'Kayne Putman'},\n",
       " {'name': 'Cheryl Voake'},\n",
       " {'name': 'Martin Chorley'},\n",
       " {'name': 'Holly Tibble'},\n",
       " {'name': 'Andrew Nelson'},\n",
       " {'name': 'E Kleinman'},\n",
       " {'name': 'Rhys Ward'},\n",
       " {'name': 'Paul Slavin'},\n",
       " {'name': 'Janet Williams'},\n",
       " {'name': 'Piotr Petunov'},\n",
       " {'name': 'John Minty'},\n",
       " {'name': 'Peter Burnap'},\n",
       " {'name': 'Julie Vile'},\n",
       " {'name': 'Tatjana Timofejeva'},\n",
       " {'name': 'Izabella Komenda'},\n",
       " {'name': 'Owen Campbell'},\n",
       " {'name': 'Alex Carney'},\n",
       " {'name': 'Adele Marshall'},\n",
       " {'name': 'Izabela Komenda'},\n",
       " {'name': 'Kesh Baboolal'},\n",
       " {'name': 'Cameron Davidson-Pilon'},\n",
       " {'name': 'James Campbell'},\n",
       " {'name': 'Fern Gould'},\n",
       " {'name': 'Kristian Glass'},\n",
       " {'name': 'Tamsin Griffiths'},\n",
       " {'name': 'Matthew Williams'},\n",
       " {'name': 'Honora Smith'},\n",
       " {'name': 'Alex Voss'},\n",
       " {'name': 'Tomáš Ehrlich'},\n",
       " {'name': 'Chappman Sin'},\n",
       " {'name': 'Luis Visintini'},\n",
       " {'name': 'Jenny Gallagher'},\n",
       " {'name': 'Israel Vieira'},\n",
       " {'name': 'Rhys Jones'},\n",
       " {'name': 'Tobenna Peter Igwe'},\n",
       " {'name': 'Jason Young'},\n",
       " {'name': 'Hannah Lorrimore'},\n",
       " {'name': 'Geraint Palmer', 'url': 'http://www.geraintianpalmer.org.uk/'},\n",
       " {'name': 'Catherine Fortune'},\n",
       " {'name': 'Vincent Knight'},\n",
       " {'name': 'Roger Behrend'},\n",
       " {'name': 'James Williams'},\n",
       " {'name': 'Thomas Campbell'},\n",
       " {'name': 'Karol Langner'},\n",
       " {'name': 'Steve Dumont'},\n",
       " {'name': 'Martin Jones'},\n",
       " {'name': 'Jack Parry-Jones'},\n",
       " {'name': 'Georgios Koutsovoulos'},\n",
       " {'name': 'Iain Reynolds'},\n",
       " {'name': 'Will Housley'},\n",
       " {'name': 'Ffinian Sullivan'},\n",
       " {'name': 'Ceri Morse'},\n",
       " {'name': 'Rob Shone'},\n",
       " {'name': 'Rob Procter'},\n",
       " {'name': 'Omer Rana'},\n",
       " {'name': 'Roberto Aringhieri'},\n",
       " {'name': 'Marc Harper'},\n",
       " {'name': 'Rob Wilson'},\n",
       " {'name': 'Imogen Dunne'},\n",
       " {'name': 'Jon Gillard'},\n",
       " {'name': 'Angelico Fetta'},\n",
       " {'name': 'Jochen Müller'},\n",
       " {'name': 'Hannah Williams'},\n",
       " {'name': 'Stuart MacGregor'},\n",
       " {'name': 'Karl Molden.'},\n",
       " {'name': 'Paul Harper'},\n",
       " {'name': 'Cindy Huang'},\n",
       " {'name': 'Leanne Smith'},\n",
       " {'name': 'Louise Orpin'},\n",
       " {'name': 'Nikoleta Glynatsi', 'url': 'https://twitter.com/nikoletaglyn'},\n",
       " {'name': 'Timothy Standen'},\n",
       " {'name': 'Luke Sloan'},\n",
       " {'name': 'Adam Edwards'}]"
      ]
     },
     "execution_count": 180,
     "metadata": {},
     "output_type": "execute_result"
    }
   ],
   "source": [
    "collaborators = {}\n",
    "for file in glob.glob(\"./data/Collaborator/*yml\"):\n",
    "    with open(file, \"r\") as f:\n",
    "        collaborators[(yaml.load(f))\n",
    "collaborators"
   ]
  },
  {
   "cell_type": "markdown",
   "metadata": {},
   "source": [
    "# Write courses"
   ]
  },
  {
   "cell_type": "code",
   "execution_count": 19,
   "metadata": {},
   "outputs": [
    {
     "name": "stdout",
     "output_type": "stream",
     "text": [
      "{'level': 'BSc. Year 1', 'url': 'http://drvinceknight.github.io/cfm/', 'current': True, 'title': 'Computing for Mathematics'}\n",
      "{'level': 'MSc.', 'url': 'http://drvinceknight.github.io/MSc_week_0/', 'current': False, 'title': 'MSc. Week 0'}\n",
      "{'level': 'MSc.', 'url': 'http://drvinceknight.github.io/OR_Methods/', 'current': False, 'title': 'OR Methods'}\n",
      "{'level': 'MSc.', 'url': 'http://drvinceknight.github.io/Introduction_to_OOP/', 'current': True, 'title': 'Introduction to Object Oriented Programming'}\n",
      "{'level': 'BSc. Year 3', 'url': 'http://drvinceknight.github.io/Introduction_to_LaTeX/', 'current': False, 'title': 'Introduction to LaTeX'}\n",
      "{'level': 'BSc. Year 3', 'url': 'http://drvinceknight.github.io/Year_3_game_theory_course/', 'current': True, 'title': 'Game Theory'}\n",
      "{'level': 'MSc.', 'url': 'http://drvinceknight.github.io/SAS-R/', 'current': False, 'title': 'Advanced Statistical Packages'}\n"
     ]
    }
   ],
   "source": [
    "def required_dict(course):\n",
    "    d = {}\n",
    "    d[\"title\"] = course[\"title\"]\n",
    "    d[\"url\"] = course[\"url\"]\n",
    "    d[\"current\"] = course[\"current\"]\n",
    "    d[\"level\"] = course[\"level\"]\n",
    "    return d\n",
    "\n",
    "for course in courses:\n",
    "    print(required_dict(course))"
   ]
  },
  {
   "cell_type": "code",
   "execution_count": 18,
   "metadata": {
    "collapsed": true
   },
   "outputs": [],
   "source": [
    "#for course in courses:\n",
    "#    filename = \"./data/Course/{}.yml\".format(course[\"title\"])\n",
    "#    with open(filename, \"w\") as f:\n",
    "#        yaml.dump(required_dict(course), f,  default_flow_style=False)"
   ]
  },
  {
   "cell_type": "code",
   "execution_count": 132,
   "metadata": {},
   "outputs": [
    {
     "data": {
      "text/plain": [
       "60"
      ]
     },
     "execution_count": 132,
     "metadata": {},
     "output_type": "execute_result"
    }
   ],
   "source": [
    "single_name_map = {'Aringhieri, R.': 'Roberto Aringhieri', \n",
    "                   'Gillard J.': 'Jon Gillard', \n",
    "                   'Gillard J': 'Jon Gillard',\n",
    "                   'J.W. Gillard': 'Jon Gillard',\n",
    "                   'Baboolal K': 'Kesh Baboolal',\n",
    "                   'Behrend RE': 'Roger Behrend',\n",
    "                   'Bradshaw N.A.': 'Noel-Ann Bradshaw',\n",
    "                   'Burnap P': 'Peter Burnap',\n",
    "                   'Edwards A': 'Adam Edwards',\n",
    "                   'Fetta A': 'Angelico Fetta',\n",
    "                   'Gallagher JE': 'Jenny Gallagher',\n",
    "                   'Griffiths J': 'Jeff Griffiths',\n",
    "                   'Griffiths J.': 'Jeff Griffiths',\n",
    "                   'J. Griffiths': 'Jeff Griffiths',\n",
    "                   'Harper P': 'Paul Harper',\n",
    "                   'Harper PR': 'Paul Harper',\n",
    "                   'Harper PR.': 'Paul Harper',\n",
    "                   'P.R. Harper': 'Paul Harper',\n",
    "                   'Paul R Harper': 'Paul Harper',\n",
    "                   'Housley W': 'Will Housley',\n",
    "                   'I. Komenda': 'Izabella Komenda',\n",
    "                   'Komenda I.': 'Izabella Komenda',\n",
    "                   'Komenda I': 'Izabella Komenda',\n",
    "                   'J. Parry-Jones': 'Jack Parry-Jones',\n",
    "                   'J. Williams': 'James Williams',\n",
    "                   'J.L. Vile': 'Julie Vile',\n",
    "                   'Knight V': 'Vincent Knight',\n",
    "                   'Knight VA': 'Vincent Knight',\n",
    "                   'Knight V.': 'Vincent Knight',\n",
    "                   'Knight VA.': 'Vincent Knight',\n",
    "                   'Knight, V': 'Vincent Knight',\n",
    "                   'Knight, V.': 'Vincent Knight',\n",
    "                   'V. Knight': 'Vincent Knight',\n",
    "                   'V. Knight.': 'Vincent Knight',\n",
    "                   'V.A. Knight.': 'Vincent Knight',\n",
    "                   'Vince A Knight': 'Vincent Knight',\n",
    "                   'Vince Knight': 'Vincent Knight',\n",
    "                   'Vince Knight': 'Vincent Knight',\n",
    "                   'Orpin L.': 'Louise Orpin',\n",
    "                   'Marshall A.': 'Adele Marshall',\n",
    "                   'Nelson AV': 'Andrew Nelson',\n",
    "                   'Kleinman ER': 'E Kleinman',\n",
    "                   'Procter R.': 'Rob Procter',\n",
    "                   'Rana O': 'Omer Rana',\n",
    "                   'Wilson R.': 'Rob Wilson',\n",
    "                   'Shone R': 'Rob Shone',\n",
    "                   'S. Dumont': 'Steve Dumont',\n",
    "                   'Williams ML': 'Matthew Williams',\n",
    "                   'Williams JW': 'Janet Williams',\n",
    "                   'Williams JE.': 'Janet Williams',\n",
    "                   'Williams JE': 'Janet Williams',\n",
    "                   'Williams J': 'Janet Williams',\n",
    "                   'Voake C': 'Cheryl Voake',\n",
    "                   'Voss A. (': 'Alex Voss',\n",
    "                   'Vile J.': 'Julie Vile',\n",
    "                   'Vieira I': 'Israel Vieira',\n",
    "                   'Smith, H.': 'Honora Smith',\n",
    "                   'Smith L': 'Leanne Smith',\n",
    "                   'Sloan L': 'Luke Sloan'}\n",
    "\n",
    "authors = set([single_name_map.get(author, author) for publication in publications \n",
    "               for author in publication[\"authors\"]])\n",
    "\n",
    "len(authors)"
   ]
  },
  {
   "cell_type": "code",
   "execution_count": 133,
   "metadata": {
    "collapsed": true
   },
   "outputs": [],
   "source": [
    "for author in authors:\n",
    "    filename = \"data/Collaborator/{}.yml\".format(author.lower().replace(' ', '-'))\n",
    "    d = {\"name\": author}\n",
    "    \n",
    "    with open(filename, \"w\") as f:\n",
    "        yaml.dump(d, f,  default_flow_style=False)   "
   ]
  },
  {
   "cell_type": "code",
   "execution_count": 134,
   "metadata": {
    "collapsed": true
   },
   "outputs": [],
   "source": [
    "for publication in publications:\n",
    "    d = {\"title\": publication[\"title\"], \n",
    "         \"date\": publication[\"date\"],\n",
    "         \"details\": publication[\"pub_details\"]}\n",
    "    if \"url\" in publication:\n",
    "        d[\"url\"] = publication[\"url\"]\n",
    "    d[\"authors\"] = []\n",
    "    for author in publication[\"authors\"]:\n",
    "        author = single_name_map.get(author, author)\n",
    "        if author == \"Vincent Knight\":\n",
    "            author = \"me\"\n",
    "        d[\"authors\"].append(author.lower().replace(' ', '-'))\n",
    "   \n",
    "    title = publication[\"title\"].lower()\n",
    "    title = title.replace(' ', '-')\n",
    "    title = title.replace('.', '')\n",
    "    title = title.replace(':', '-')\n",
    "    title = title.replace('--', '-')\n",
    "    title = title.replace('-—-', '-')\n",
    "    title = title.replace('/', '-')\n",
    "    filename = \"data/Publication/{}.yml\".format(title)\n",
    "    \n",
    "    with open(filename, \"w\") as f:\n",
    "        yaml.dump(d, f,  default_flow_style=False)   "
   ]
  },
  {
   "cell_type": "code",
   "execution_count": 135,
   "metadata": {
    "collapsed": true
   },
   "outputs": [],
   "source": [
    "for topic in interests:\n",
    "    filename = \"data/ResearchTopic/{}.yml\".format(topic[\"title\"].lower().replace(' ', '-'))\n",
    "    with open(filename, \"w\") as f:\n",
    "        yaml.dump(topic, f,  default_flow_style=False) "
   ]
  },
  {
   "cell_type": "code",
   "execution_count": 137,
   "metadata": {
    "collapsed": true
   },
   "outputs": [],
   "source": [
    "for author in authors:\n",
    "    filename = \"data/Collaborator/{}.yml\".format(author.lower().replace(' ', '-'))\n",
    "    d = {\"name\": author}\n",
    "    with open(filename, \"w\") as f:\n",
    "        yaml.dump(d, f,  default_flow_style=False)   "
   ]
  },
  {
   "cell_type": "code",
   "execution_count": 138,
   "metadata": {
    "collapsed": true
   },
   "outputs": [],
   "source": [
    "for student in students:\n",
    "    \n",
    "    pk = student[\"name\"].lower().replace(' ', '-')\n",
    "    filename = \"data/Collaborator/{}.yml\".format(pk)\n",
    "    d = {\"name\": student[\"name\"]}\n",
    "\n",
    "    if \"url\" in student:\n",
    "        d[\"url\"] = student[\"url\"]\n",
    "        \n",
    "    with open(filename, \"w\") as f:\n",
    "        yaml.dump(d, f,  default_flow_style=False)   \n",
    "    \n",
    "    \n",
    "    filename = \"data/StudentProject/{}\".format(\"{}-{}-{}\".format(student[\"name\"], student[\"type\"], student[\"start_date\"]).lower().replace(' ', '-').replace('.', ''))\n",
    "    del student[\"name\"]\n",
    "    student[\"student\"] = pk\n",
    "    with open(\"{}.yml\".format(filename), \"w\") as f:\n",
    "        yaml.dump(student, f,  default_flow_style=False)     "
   ]
  },
  {
   "cell_type": "code",
   "execution_count": 146,
   "metadata": {
    "collapsed": true
   },
   "outputs": [],
   "source": [
    "for grant in grants:\n",
    "    filename = \"{}-{}-{}\".format(grant[\"source\"], grant[\"title\"], grant[\"start_date\"]).lower().replace(':', '-').replace('/', '-').replace(' ', '-').replace('.', '')\n",
    "    with open(\"data/Funding/{}.yml\".format(filename), \"w\") as f:\n",
    "        yaml.dump(grant, f,  default_flow_style=False)"
   ]
  },
  {
   "cell_type": "code",
   "execution_count": 150,
   "metadata": {},
   "outputs": [],
   "source": [
    "for project in software_projects:\n",
    "    filename = project[\"name\"].lower().replace(' ', '-')\n",
    "    with open(\"data/SoftwareProject/{}.yml\".format(filename), \"w\") as f:\n",
    "        yaml.dump(project, f,  default_flow_style=False)"
   ]
  },
  {
   "cell_type": "code",
   "execution_count": 154,
   "metadata": {},
   "outputs": [],
   "source": [
    "for community in software_communities:\n",
    "    filename = community[\"name\"].lower().replace(' ', '-')\n",
    "    with open(\"data/SoftwareCommunity/{}.yml\".format(filename), \"w\") as f:\n",
    "        yaml.dump(community, f,  default_flow_style=False)"
   ]
  },
  {
   "cell_type": "code",
   "execution_count": 160,
   "metadata": {},
   "outputs": [],
   "source": [
    "for activity in outreach_activities:\n",
    "    filename = activity[\"title\"].lower().replace(' ', '-').replace('.', '').replace(':', '-').replace('--', '-')\n",
    "    with open(\"data/Outreach/{}.yml\".format(filename), \"w\") as f:\n",
    "        yaml.dump(activity, f,  default_flow_style=False)"
   ]
  },
  {
   "cell_type": "code",
   "execution_count": 169,
   "metadata": {},
   "outputs": [],
   "source": [
    "for appearance in media:\n",
    "    d = {}\n",
    "    d[\"date\"] = appearance[\"date\"]\n",
    "    d[\"outlet\"] = appearance[\"outlet\"]\n",
    "    d[\"subject\"] = appearance[\"subject\"]\n",
    "    if \"url\" in appearance:\n",
    "        d[\"url\"] = appearance[\"url\"]\n",
    "    filename = \"{}-{}\".format(d[\"date\"], d[\"outlet\"]).lower().replace(' ', '-').replace(\"'\",'' )\n",
    "    with open(\"data/Media/{}.yml\".format(filename), \"w\") as f:\n",
    "        yaml.dump(d, f,  default_flow_style=False)"
   ]
  },
  {
   "cell_type": "code",
   "execution_count": 170,
   "metadata": {},
   "outputs": [
    {
     "data": {
      "text/plain": [
       "[{'title': 'Senior lecturer'},\n",
       " {'title': 'Deputy director of engagement'},\n",
       " {'title': 'Sustainable Software Institute Fellow'},\n",
       " {'title': 'Chair of OR in Schools'},\n",
       " {'title': 'Area editor for Health Systems'},\n",
       " {'title': 'Editor for the Cardiff Centre for Education Innovation Learning Hub'},\n",
       " {'title': 'Phoenix project advisory board'},\n",
       " {'title': 'Cardiff Python user group meetup organiser'},\n",
       " {'title': 'PyCon UK organising committee'}]"
      ]
     },
     "execution_count": 170,
     "metadata": {},
     "output_type": "execute_result"
    }
   ],
   "source": [
    "for role in roles:\n",
    "    role[\"start_date\"] = "
   ]
  },
  {
   "cell_type": "code",
   "execution_count": null,
   "metadata": {
    "collapsed": true
   },
   "outputs": [],
   "source": []
  }
 ],
 "metadata": {
  "anaconda-cloud": {},
  "kernelspec": {
   "display_name": "Python [default]",
   "language": "python",
   "name": "python3"
  },
  "language_info": {
   "codemirror_mode": {
    "name": "ipython",
    "version": 3
   },
   "file_extension": ".py",
   "mimetype": "text/x-python",
   "name": "python",
   "nbconvert_exporter": "python",
   "pygments_lexer": "ipython3",
   "version": "3.5.2"
  }
 },
 "nbformat": 4,
 "nbformat_minor": 2
}
